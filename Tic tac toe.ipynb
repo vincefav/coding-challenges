{
 "cells": [
  {
   "cell_type": "code",
   "execution_count": 1,
   "metadata": {
    "collapsed": false
   },
   "outputs": [],
   "source": [
    "import numpy as np"
   ]
  },
  {
   "cell_type": "code",
   "execution_count": 2,
   "metadata": {
    "collapsed": false
   },
   "outputs": [],
   "source": [
    "board = [\n",
    "    ['', '', ''],\n",
    "    ['', '', ''],\n",
    "    ['', '', '']\n",
    "]"
   ]
  },
  {
   "cell_type": "code",
   "execution_count": 3,
   "metadata": {
    "collapsed": false
   },
   "outputs": [],
   "source": [
    "def winning_board(board):\n",
    "    # Win conditions\n",
    "    top = board[0][0] == board[0][1] and board[0][1] == board[0][2] and board[0][0] != ''\n",
    "    midh = board[1][0] == board[1][1] and board[1][1] == board[1][2] and board[1][0] != ''\n",
    "    bot = board[2][0] == board[2][1] and board[2][1] == board[2][2] and board[2][0] != ''\n",
    "\n",
    "    left = board[0][0] == board[1][0] and board[1][0] == board[2][0] and board[0][0] != ''\n",
    "    midv = board[0][1] == board[1][1] and board[1][1] == board[2][1] and board[1][1] != ''\n",
    "    right = board[0][2] == board[1][2] and board[1][2] == board[2][2] and board[0][2] != ''\n",
    "\n",
    "    leftd = board[0][0] == board[1][1] and board[1][1] == board[2][2] and board[0][0] != ''\n",
    "    rightd = board[0][2] == board[1][1] and board[1][1] == board[2][0] and board[0][2] != ''\n",
    "\n",
    "    won = top or midh or bot or left or midv or leftd or rightd\n",
    "    \n",
    "    return won"
   ]
  },
  {
   "cell_type": "code",
   "execution_count": 10,
   "metadata": {
    "collapsed": true
   },
   "outputs": [],
   "source": [
    "import numpy as np\n",
    "\n",
    "def make_winning_move(board):\n",
    "    numeric_board = []\n",
    "    for y, row in enumerate(board):\n",
    "        new_row = []\n",
    "        for col in row:\n",
    "            if col == 'O':\n",
    "                new_row += [1]\n",
    "            else:\n",
    "                new_row += [0]\n",
    "        if np.sum(new_row) > 1:\n",
    "            x = np.argmin(new_row)\n",
    "            board[y][x] = 'O'\n",
    "            return board\n",
    "        \n",
    "    # left to right\n",
    "    print('testing left to right')\n",
    "    box1 = board[0][0]\n",
    "    box2 = board[1][1]\n",
    "    box3 = board[2][2]\n",
    "    left_to_right = [box1, box2, box3]\n",
    "    print(left_to_right)\n",
    "    left_to_right_boolean = np.array([box1 == 'O', box2 == 'O', box3 == 'O'])\n",
    "    if np.sum(left_to_right_boolean) > 1:\n",
    "        x = np.argmin(left_to_right_boolean)\n",
    "        if x == 0:\n",
    "            board[0][0] = 'O'\n",
    "            return board\n",
    "        elif x == 1:\n",
    "            board[1][1] = 'O'\n",
    "            return board\n",
    "        elif x == 2:\n",
    "            board[2][2] = 'O'\n",
    "            return board\n",
    "    \n",
    "    # Right to left\n",
    "    box4 = board[0][2] == 'O'\n",
    "    box5 = board[2][0] == 'O'\n",
    "\n",
    "def prevent_winning_move(board):\n",
    "    pass\n",
    "\n",
    "def move(board):\n",
    "    pass"
   ]
  },
  {
   "cell_type": "code",
   "execution_count": 14,
   "metadata": {
    "collapsed": false
   },
   "outputs": [
    {
     "name": "stdout",
     "output_type": "stream",
     "text": [
      "testing left to right\n",
      "['', 'O', '']\n"
     ]
    }
   ],
   "source": [
    "board = [\n",
    "    ['', '', 'O'],\n",
    "    ['', 'O', ''],\n",
    "    ['', '', '']\n",
    "]\n",
    "\n",
    "make_winning_move(board)"
   ]
  },
  {
   "cell_type": "code",
   "execution_count": 3,
   "metadata": {
    "collapsed": false
   },
   "outputs": [
    {
     "data": {
      "text/plain": [
       "2"
      ]
     },
     "execution_count": 3,
     "metadata": {},
     "output_type": "execute_result"
    }
   ],
   "source": [
    "np.argmin([3,2,1])"
   ]
  },
  {
   "cell_type": "code",
   "execution_count": null,
   "metadata": {
    "collapsed": true
   },
   "outputs": [],
   "source": []
  }
 ],
 "metadata": {
  "kernelspec": {
   "display_name": "Python 3",
   "language": "python",
   "name": "python3"
  },
  "language_info": {
   "codemirror_mode": {
    "name": "ipython",
    "version": 3
   },
   "file_extension": ".py",
   "mimetype": "text/x-python",
   "name": "python",
   "nbconvert_exporter": "python",
   "pygments_lexer": "ipython3",
   "version": "3.6.0"
  }
 },
 "nbformat": 4,
 "nbformat_minor": 2
}
