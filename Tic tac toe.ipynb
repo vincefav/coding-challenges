{
 "cells": [
  {
   "cell_type": "code",
   "execution_count": 4,
   "metadata": {
    "collapsed": false
   },
   "outputs": [],
   "source": [
    "import numpy as np"
   ]
  },
  {
   "cell_type": "code",
   "execution_count": 1,
   "metadata": {
    "collapsed": false
   },
   "outputs": [],
   "source": [
    "board = [\n",
    "    ['', '', ''],\n",
    "    ['', '', ''],\n",
    "    ['', '', '']\n",
    "]"
   ]
  },
  {
   "cell_type": "code",
   "execution_count": 2,
   "metadata": {
    "collapsed": false
   },
   "outputs": [],
   "source": [
    "# Win conditions\n",
    "\n",
    "top = board[0][0] == board[0][1] and board[0][1] == board[0][2] and board[0][0] != ''\n",
    "midh = board[1][0] == board[1][1] and board[1][1] == board[1][2] and board[1][0] != ''\n",
    "bot = board[2][0] == board[2][1] and board[2][1] == board[2][2] and board[2][0] != ''\n",
    "\n",
    "left = board[0][0] == board[1][0] and board[1][0] == board[2][0] and board[0][0] != ''\n",
    "midv = board[0][1] == board[1][1] and board[1][1] == board[2][1] and board[1][1] != ''\n",
    "right = board[0][2] == board[1][2] and board[1][2] == board[2][2] and board[0][2] != ''\n",
    "\n",
    "leftd = board[0][0] == board[1][1] and board[1][1] == board[2][2] and board[0][0] != ''\n",
    "rightd = board[0][2] == board[1][1] and board[1][1] == board[2][0] and board[0][2] != ''\n",
    "\n",
    "won = top or midh or bot or left or midv or leftd or rightd"
   ]
  },
  {
   "cell_type": "code",
   "execution_count": 5,
   "metadata": {
    "collapsed": false
   },
   "outputs": [
    {
     "name": "stdout",
     "output_type": "stream",
     "text": [
      "What is your move?4\n",
      "4\n"
     ]
    }
   ],
   "source": [
    "while not won:\n",
    "    move = int(input('What is your move?'))\n",
    "    if isinstance(move, int):\n",
    "        print(move)\n",
    "    break"
   ]
  },
  {
   "cell_type": "code",
   "execution_count": null,
   "metadata": {
    "collapsed": true
   },
   "outputs": [],
   "source": []
  }
 ],
 "metadata": {
  "kernelspec": {
   "display_name": "Python 3",
   "language": "python",
   "name": "python3"
  },
  "language_info": {
   "codemirror_mode": {
    "name": "ipython",
    "version": 3
   },
   "file_extension": ".py",
   "mimetype": "text/x-python",
   "name": "python",
   "nbconvert_exporter": "python",
   "pygments_lexer": "ipython3",
   "version": "3.6.0"
  }
 },
 "nbformat": 4,
 "nbformat_minor": 2
}
