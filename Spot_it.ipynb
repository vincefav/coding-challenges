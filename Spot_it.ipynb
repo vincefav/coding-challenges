{
 "cells": [
  {
   "cell_type": "code",
   "execution_count": 1,
   "metadata": {
    "collapsed": true
   },
   "outputs": [],
   "source": [
    "from itertools import combinations\n",
    "import numpy as np"
   ]
  },
  {
   "cell_type": "code",
   "execution_count": 57,
   "metadata": {
    "collapsed": false
   },
   "outputs": [
    {
     "data": {
      "text/plain": [
       "[('0', '1', '2', '3'),\n",
       " ('0', '4', '5', '6'),\n",
       " ('0', '7', '8', '9'),\n",
       " ('0', '10', '11', '12'),\n",
       " ('1', '4', '7', '10'),\n",
       " ('1', '5', '8', '11'),\n",
       " ('1', '6', '9', '12'),\n",
       " ('2', '4', '8', '12'),\n",
       " ('2', '5', '9', '10'),\n",
       " ('2', '6', '7', '11'),\n",
       " ('3', '4', '9', '11'),\n",
       " ('3', '5', '7', '12'),\n",
       " ('3', '6', '8', '10')]"
      ]
     },
     "execution_count": 57,
     "metadata": {},
     "output_type": "execute_result"
    }
   ],
   "source": [
    "options = np.arange(15)\n",
    "options = [str(i) for i in options]\n",
    "\n",
    "coms = list([i for i in combinations(options, 4)])\n",
    "\n",
    "deck = [coms[0]]\n",
    "\n",
    "for i in coms:\n",
    "    add = True\n",
    "    for j in deck:\n",
    "        similar = set(i).intersection(set(j))\n",
    "        if len(similar) != 1:\n",
    "            add = False\n",
    "            break\n",
    "    if add == True:\n",
    "        deck.append(i)\n",
    "        \n",
    "deck"
   ]
  },
  {
   "cell_type": "code",
   "execution_count": 61,
   "metadata": {
    "collapsed": false
   },
   "outputs": [
    {
     "data": {
      "text/plain": [
       "[('0', '1', '2', '3', '4', '5', '6', '7'),\n",
       " ('0', '8', '9', '10', '11', '12', '13', '14'),\n",
       " ('0', '15', '16', '17', '18', '19', '20', '21'),\n",
       " ('0', '22', '23', '24', '25', '26', '27', '28')]"
      ]
     },
     "execution_count": 61,
     "metadata": {},
     "output_type": "execute_result"
    }
   ],
   "source": [
    "options = np.arange(30)\n",
    "options = [str(i) for i in options]\n",
    "\n",
    "coms = list([i for i in combinations(options, 8)])\n",
    "\n",
    "deck = [coms[0]]\n",
    "\n",
    "for i in coms:\n",
    "    add = True\n",
    "    for j in deck:\n",
    "        similar = set(i).intersection(set(j))\n",
    "        if len(similar) != 1:\n",
    "            add = False\n",
    "            break\n",
    "    if add == True:\n",
    "        deck.append(i)\n",
    "        \n",
    "deck"
   ]
  },
  {
   "cell_type": "code",
   "execution_count": 62,
   "metadata": {
    "collapsed": false
   },
   "outputs": [
    {
     "data": {
      "text/plain": [
       "[('0', '1', '2', '3', '4', '5', '6', '7'),\n",
       " ('0', '8', '9', '10', '11', '12', '13', '14'),\n",
       " ('0', '15', '16', '17', '18', '19', '20', '21'),\n",
       " ('0', '22', '23', '24', '25', '26', '27', '28')]"
      ]
     },
     "execution_count": 62,
     "metadata": {},
     "output_type": "execute_result"
    }
   ],
   "source": [
    "deck"
   ]
  },
  {
   "cell_type": "code",
   "execution_count": 11,
   "metadata": {
    "collapsed": false
   },
   "outputs": [
    {
     "data": {
      "text/plain": [
       "120"
      ]
     },
     "execution_count": 11,
     "metadata": {},
     "output_type": "execute_result"
    }
   ],
   "source": [
    " ('0', '5', '6'),  ('2', '8', '9')]"
   ]
  },
  {
   "cell_type": "code",
   "execution_count": null,
   "metadata": {
    "collapsed": true
   },
   "outputs": [],
   "source": []
  }
 ],
 "metadata": {
  "anaconda-cloud": {},
  "kernelspec": {
   "display_name": "Python 3",
   "language": "python",
   "name": "python3"
  },
  "language_info": {
   "codemirror_mode": {
    "name": "ipython",
    "version": 3
   },
   "file_extension": ".py",
   "mimetype": "text/x-python",
   "name": "python",
   "nbconvert_exporter": "python",
   "pygments_lexer": "ipython3",
   "version": "3.6.0"
  }
 },
 "nbformat": 4,
 "nbformat_minor": 1
}
