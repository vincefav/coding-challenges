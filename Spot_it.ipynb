{
 "cells": [
  {
   "cell_type": "markdown",
   "metadata": {},
   "source": [
    "Spot It is a game in which each card has a number of symbols and every pair of cards has exactly one symbol in common. Players compete to spot that symbol first.\n",
    "\n",
    "<img src=\"https://m.media-amazon.com/images/S/aplus-media/vc/ca25df23-2b1f-45ec-a70a-a57c3c6dd15a._CR0,0,220,220_PT0_SX220__.jpg\">\n",
    "\n",
    "Mathematically, this is fascinating! Can we use Python to make a deck of Spot It cards?"
   ]
  },
  {
   "cell_type": "code",
   "execution_count": 1,
   "metadata": {
    "collapsed": true
   },
   "outputs": [],
   "source": [
    "from itertools import combinations\n",
    "import numpy as np"
   ]
  },
  {
   "cell_type": "code",
   "execution_count": 63,
   "metadata": {
    "collapsed": false
   },
   "outputs": [],
   "source": [
    "# Generate the symbols; let's just use numbers as strings\n",
    "SYMBOLS = 15\n",
    "PER_CARD = 4\n",
    "\n",
    "options = np.arange(SYMBOLS)\n",
    "options = [str(i) for i in options]\n",
    "\n",
    "# Generate all possible combinations\n",
    "coms = list([i for i in combinations(options, PER_CARD)])\n",
    "\n",
    "# Seed the deck with the first combination\n",
    "deck = [coms[0]]\n",
    "\n",
    "# Add cards if they have exactly one symbol in common with\n",
    "# each existing card.\n",
    "for i in coms:\n",
    "    add = True\n",
    "    for j in deck:\n",
    "        similar = set(i).intersection(set(j))\n",
    "        if len(similar) != 1:\n",
    "            add = False\n",
    "            break\n",
    "    if add == True:\n",
    "        deck.append(i)"
   ]
  },
  {
   "cell_type": "code",
   "execution_count": 64,
   "metadata": {
    "collapsed": false
   },
   "outputs": [
    {
     "data": {
      "text/plain": [
       "[('0', '1', '2', '3'),\n",
       " ('0', '4', '5', '6'),\n",
       " ('0', '7', '8', '9'),\n",
       " ('0', '10', '11', '12'),\n",
       " ('1', '4', '7', '10'),\n",
       " ('1', '5', '8', '11'),\n",
       " ('1', '6', '9', '12'),\n",
       " ('2', '4', '8', '12'),\n",
       " ('2', '5', '9', '10'),\n",
       " ('2', '6', '7', '11'),\n",
       " ('3', '4', '9', '11'),\n",
       " ('3', '5', '7', '12'),\n",
       " ('3', '6', '8', '10')]"
      ]
     },
     "execution_count": 64,
     "metadata": {},
     "output_type": "execute_result"
    }
   ],
   "source": [
    "# Examine the deck. Take a look at each pair. It works!\n",
    "deck"
   ]
  },
  {
   "cell_type": "code",
   "execution_count": null,
   "metadata": {
    "collapsed": true
   },
   "outputs": [],
   "source": [
    "# TODO: Create a combination generator with vanilla Python"
   ]
  }
 ],
 "metadata": {
  "anaconda-cloud": {},
  "kernelspec": {
   "display_name": "Python 3",
   "language": "python",
   "name": "python3"
  },
  "language_info": {
   "codemirror_mode": {
    "name": "ipython",
    "version": 3
   },
   "file_extension": ".py",
   "mimetype": "text/x-python",
   "name": "python",
   "nbconvert_exporter": "python",
   "pygments_lexer": "ipython3",
   "version": "3.6.0"
  }
 },
 "nbformat": 4,
 "nbformat_minor": 1
}
