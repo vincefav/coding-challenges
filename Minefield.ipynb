{
 "cells": [
  {
   "cell_type": "code",
   "execution_count": 20,
   "metadata": {
    "collapsed": true
   },
   "outputs": [],
   "source": [
    "field = \"\"\"+++++++++++\n",
    "+0000000000\n",
    "+000000*00+\n",
    "+000000000+\n",
    "+000*00*00+\n",
    "+000000000+\n",
    "M000*00000+\n",
    "+++++++++++\"\"\".split('\\n')"
   ]
  },
  {
   "cell_type": "code",
   "execution_count": 21,
   "metadata": {
    "collapsed": false
   },
   "outputs": [
    {
     "data": {
      "text/plain": [
       "[['+', '+', '+', '+', '+', '+', '+', '+', '+', '+', '+'],\n",
       " ['+', '0', '0', '0', '0', '0', '0', '0', '0', '0', '0'],\n",
       " ['+', '0', '0', '0', '0', '0', '0', '*', '0', '0', '+'],\n",
       " ['+', '0', '0', '0', '0', '0', '0', '0', '0', '0', '+'],\n",
       " ['+', '0', '0', '0', '*', '0', '0', '*', '0', '0', '+'],\n",
       " ['+', '0', '0', '0', '0', '0', '0', '0', '0', '0', '+'],\n",
       " ['M', '0', '0', '0', '*', '0', '0', '0', '0', '0', '+'],\n",
       " ['+', '+', '+', '+', '+', '+', '+', '+', '+', '+', '+']]"
      ]
     },
     "execution_count": 21,
     "metadata": {},
     "output_type": "execute_result"
    }
   ],
   "source": [
    "field = [list(i) for i in field]\n",
    "\n",
    "field"
   ]
  },
  {
   "cell_type": "code",
   "execution_count": 22,
   "metadata": {
    "collapsed": false
   },
   "outputs": [
    {
     "data": {
      "text/plain": [
       "'0'"
      ]
     },
     "execution_count": 22,
     "metadata": {},
     "output_type": "execute_result"
    }
   ],
   "source": [
    "field[4][2]"
   ]
  },
  {
   "cell_type": "code",
   "execution_count": 23,
   "metadata": {
    "collapsed": false
   },
   "outputs": [],
   "source": [
    "for ix, i in enumerate(field):\n",
    "    for iix, j in enumerate(i):\n",
    "        if j == 'M':\n",
    "            y, x = ix, iix"
   ]
  },
  {
   "cell_type": "code",
   "execution_count": 24,
   "metadata": {
    "collapsed": false
   },
   "outputs": [
    {
     "name": "stdout",
     "output_type": "stream",
     "text": [
      "+++++++++++\n",
      "+0000000000\n",
      "+000000*00+\n",
      "+000000000+\n",
      "+000*00*00+\n",
      "+000000000+\n",
      "MM00*00000+\n",
      "+++++++++++\n",
      "\n",
      "+++++++++++\n",
      "+0000000000\n",
      "+000000*00+\n",
      "+000000000+\n",
      "+000*00*00+\n",
      "+000000000+\n",
      "MMM0*00000+\n",
      "+++++++++++\n",
      "\n",
      "+++++++++++\n",
      "+0000000000\n",
      "+000000*00+\n",
      "+000000000+\n",
      "+000*00*00+\n",
      "+000000000+\n",
      "MMMM*00000+\n",
      "+++++++++++\n",
      "\n",
      "+++++++++++\n",
      "+0000000000\n",
      "+000000*00+\n",
      "+000000000+\n",
      "+000*00*00+\n",
      "+000000000+\n",
      "MMMM*00000+\n",
      "+++++++++++\n",
      "\n"
     ]
    }
   ],
   "source": [
    "directions = 'dddw'\n",
    "location_x = x\n",
    "location_y = y\n",
    "\n",
    "for i in directions:\n",
    "    if i == 'w':\n",
    "        if field[x][y-1] == '*':\n",
    "            print('You hit a mine!')\n",
    "            break\n",
    "        elif field[x][y-1] != '+':\n",
    "            location_y = location_y - 1\n",
    "    elif i == 'a':\n",
    "        if field[x-1][y] == '*':\n",
    "            print('You hit a mine!')\n",
    "            break\n",
    "        elif field[x-1][y] != '+':\n",
    "            location_x = location_x - 1\n",
    "    elif i == 's':\n",
    "        if field[x][y+1] == '*':\n",
    "            print('You hit a mine!')\n",
    "            break\n",
    "        elif field[x][y+1] != '+':\n",
    "            location_y = location_y + 1\n",
    "    elif i == 'd':\n",
    "        if field[x+1][y] == '*':\n",
    "            print('You hit a mine!')\n",
    "            break\n",
    "        elif field[x+1][y] != '+':\n",
    "            location_x = location_x + 1\n",
    "            field[location_y][location_x] = 'M'\n",
    "    for j in field:\n",
    "        for jj in j: \n",
    "            print(jj, end='')\n",
    "        print()\n",
    "    print()"
   ]
  },
  {
   "cell_type": "code",
   "execution_count": 15,
   "metadata": {
    "collapsed": false
   },
   "outputs": [
    {
     "data": {
      "text/plain": [
       "['+++++++++++',\n",
       " '+0000000000',\n",
       " '+000000*00+',\n",
       " '+000000000+',\n",
       " '+000*00*00+',\n",
       " '+000000000+',\n",
       " 'M000*00000+',\n",
       " '+++++++++++']"
      ]
     },
     "execution_count": 15,
     "metadata": {},
     "output_type": "execute_result"
    }
   ],
   "source": [
    "field"
   ]
  },
  {
   "cell_type": "code",
   "execution_count": 14,
   "metadata": {
    "collapsed": false
   },
   "outputs": [
    {
     "data": {
      "text/plain": [
       "(3, 6)"
      ]
     },
     "execution_count": 14,
     "metadata": {},
     "output_type": "execute_result"
    }
   ],
   "source": [
    "location_x, location_y"
   ]
  },
  {
   "cell_type": "code",
   "execution_count": null,
   "metadata": {
    "collapsed": true
   },
   "outputs": [],
   "source": []
  }
 ],
 "metadata": {
  "anaconda-cloud": {},
  "kernelspec": {
   "display_name": "Python 3",
   "language": "python",
   "name": "python3"
  },
  "language_info": {
   "codemirror_mode": {
    "name": "ipython",
    "version": 3
   },
   "file_extension": ".py",
   "mimetype": "text/x-python",
   "name": "python",
   "nbconvert_exporter": "python",
   "pygments_lexer": "ipython3",
   "version": "3.6.0"
  }
 },
 "nbformat": 4,
 "nbformat_minor": 2
}
