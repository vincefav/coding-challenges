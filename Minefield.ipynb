{
 "cells": [
  {
   "cell_type": "code",
   "execution_count": 12,
   "metadata": {
    "collapsed": true
   },
   "outputs": [],
   "source": [
    "field = \"\"\"+++++++++++\n",
    "+0000000000\n",
    "+000000*00+\n",
    "+000000000+\n",
    "+000*00*00+\n",
    "+000000000+\n",
    "M000*00000+\n",
    "+++++++++++\"\"\".split('\\n')"
   ]
  },
  {
   "cell_type": "code",
   "execution_count": 13,
   "metadata": {
    "collapsed": false
   },
   "outputs": [
    {
     "data": {
      "text/plain": [
       "[['+', '+', '+', '+', '+', '+', '+', '+', '+', '+', '+'],\n",
       " ['+', '0', '0', '0', '0', '0', '0', '0', '0', '0', '0'],\n",
       " ['+', '0', '0', '0', '0', '0', '0', '*', '0', '0', '+'],\n",
       " ['+', '0', '0', '0', '0', '0', '0', '0', '0', '0', '+'],\n",
       " ['+', '0', '0', '0', '*', '0', '0', '*', '0', '0', '+'],\n",
       " ['+', '0', '0', '0', '0', '0', '0', '0', '0', '0', '+'],\n",
       " ['M', '0', '0', '0', '*', '0', '0', '0', '0', '0', '+'],\n",
       " ['+', '+', '+', '+', '+', '+', '+', '+', '+', '+', '+']]"
      ]
     },
     "execution_count": 13,
     "metadata": {},
     "output_type": "execute_result"
    }
   ],
   "source": [
    "field = [list(i) for i in field]\n",
    "\n",
    "field"
   ]
  },
  {
   "cell_type": "code",
   "execution_count": 14,
   "metadata": {
    "collapsed": false
   },
   "outputs": [
    {
     "data": {
      "text/plain": [
       "'0'"
      ]
     },
     "execution_count": 14,
     "metadata": {},
     "output_type": "execute_result"
    }
   ],
   "source": [
    "field[4][2]"
   ]
  },
  {
   "cell_type": "code",
   "execution_count": 15,
   "metadata": {
    "collapsed": false
   },
   "outputs": [],
   "source": [
    "for ix, i in enumerate(field):\n",
    "    for iix, j in enumerate(i):\n",
    "        if j == 'M':\n",
    "            y, x = ix, iix"
   ]
  },
  {
   "cell_type": "code",
   "execution_count": 16,
   "metadata": {
    "collapsed": false
   },
   "outputs": [
    {
     "name": "stdout",
     "output_type": "stream",
     "text": [
      "+++++++++++\n",
      "+0000000000\n",
      "+000000*00+\n",
      "+000000000+\n",
      "+000*00*00+\n",
      "+000000000+\n",
      "MM00*00000+\n",
      "+++++++++++\n",
      "\n",
      "+++++++++++\n",
      "+0000000000\n",
      "+000000*00+\n",
      "+000000000+\n",
      "+000*00*00+\n",
      "+000000000+\n",
      "MMM0*00000+\n",
      "+++++++++++\n",
      "\n",
      "+++++++++++\n",
      "+0000000000\n",
      "+000000*00+\n",
      "+000000000+\n",
      "+000*00*00+\n",
      "+000000000+\n",
      "MMMM*00000+\n",
      "+++++++++++\n",
      "\n",
      "+++++++++++\n",
      "+0000000000\n",
      "+000000*00+\n",
      "+000000000+\n",
      "+000*00*00+\n",
      "+000000000+\n",
      "MMMM*00000+\n",
      "+++++++++++\n",
      "\n",
      "+++++++++++\n",
      "+0000000000\n",
      "+000000*00+\n",
      "+000000000+\n",
      "+000*00*00+\n",
      "+000000000+\n",
      "MMMM*00000+\n",
      "+++++++++++\n",
      "\n",
      "+++++++++++\n",
      "+0000000000\n",
      "+000000*00+\n",
      "+000000000+\n",
      "+000*00*00+\n",
      "+000000000+\n",
      "MMMM*00000+\n",
      "+++++++++++\n",
      "\n",
      "+++++++++++\n",
      "+0000000000\n",
      "+000000*00+\n",
      "+000000000+\n",
      "+000*00*00+\n",
      "+000000000+\n",
      "MMMM*00000+\n",
      "+++++++++++\n",
      "\n",
      "+++++++++++\n",
      "+0000000000\n",
      "+000000*00+\n",
      "+000000000+\n",
      "+000*00*00+\n",
      "+000000000+\n",
      "MMMM*00000+\n",
      "+++++++++++\n",
      "\n",
      "+++++++++++\n",
      "+0000000000\n",
      "+000000*00+\n",
      "+000000000+\n",
      "+000*00*00+\n",
      "+000000000+\n",
      "MMMM*00000+\n",
      "+++++++++++\n",
      "\n",
      "+++++++++++\n",
      "+0000000000\n",
      "+000000*00+\n",
      "+000000000+\n",
      "+000*00*00+\n",
      "+000000000+\n",
      "MMMM*00000+\n",
      "+++++++++++\n",
      "\n",
      "+++++++++++\n",
      "+0000000000\n",
      "+000000*00+\n",
      "+000000000+\n",
      "+000*00*00+\n",
      "+000000000+\n",
      "MMMMM00000+\n",
      "+++++++++++\n",
      "\n",
      "+++++++++++\n",
      "+0000000000\n",
      "+000000*00+\n",
      "+000000000+\n",
      "+000*00*00+\n",
      "+000000000+\n",
      "MMMMMM0000+\n",
      "+++++++++++\n",
      "\n",
      "+++++++++++\n",
      "+0000000000\n",
      "+000000*00+\n",
      "+000000000+\n",
      "+000*00*00+\n",
      "+000000000+\n",
      "MMMMMMM000+\n",
      "+++++++++++\n",
      "\n",
      "+++++++++++\n",
      "+0000000000\n",
      "+000000*00+\n",
      "+000000000+\n",
      "+000*00*00+\n",
      "+000000000+\n",
      "MMMMMMMM00+\n",
      "+++++++++++\n",
      "\n",
      "+++++++++++\n",
      "+0000000000\n",
      "+000000*00+\n",
      "+000000000+\n",
      "+000*00*00+\n",
      "+000000000+\n",
      "MMMMMMMMM0+\n",
      "+++++++++++\n",
      "\n",
      "+++++++++++\n",
      "+0000000000\n",
      "+000000*00+\n",
      "+000000000+\n",
      "+000*00*00+\n",
      "+000000000+\n",
      "MMMMMMMMMM+\n",
      "+++++++++++\n",
      "\n",
      "+++++++++++\n",
      "+0000000000\n",
      "+000000*00+\n",
      "+000000000+\n",
      "+000*00*00+\n",
      "+000000000+\n",
      "MMMMMMMMMMM\n",
      "+++++++++++\n",
      "\n",
      "Minefield safely traversed!\n"
     ]
    },
    {
     "ename": "IndexError",
     "evalue": "list assignment index out of range",
     "output_type": "error",
     "traceback": [
      "\u001b[0;31m---------------------------------------------------------------------------\u001b[0m",
      "\u001b[0;31mIndexError\u001b[0m                                Traceback (most recent call last)",
      "\u001b[0;32m<ipython-input-16-b618c9644c76>\u001b[0m in \u001b[0;36m<module>\u001b[0;34m()\u001b[0m\n\u001b[1;32m     28\u001b[0m         \u001b[1;32melif\u001b[0m \u001b[0mfield\u001b[0m\u001b[1;33m[\u001b[0m\u001b[0mx\u001b[0m\u001b[1;33m+\u001b[0m\u001b[1;36m1\u001b[0m\u001b[1;33m]\u001b[0m\u001b[1;33m[\u001b[0m\u001b[0my\u001b[0m\u001b[1;33m]\u001b[0m \u001b[1;33m!=\u001b[0m \u001b[1;34m'+'\u001b[0m\u001b[1;33m:\u001b[0m\u001b[1;33m\u001b[0m\u001b[0m\n\u001b[1;32m     29\u001b[0m             \u001b[0mlocation_x\u001b[0m \u001b[1;33m=\u001b[0m \u001b[0mlocation_x\u001b[0m \u001b[1;33m+\u001b[0m \u001b[1;36m1\u001b[0m\u001b[1;33m\u001b[0m\u001b[0m\n\u001b[0;32m---> 30\u001b[0;31m             \u001b[0mfield\u001b[0m\u001b[1;33m[\u001b[0m\u001b[0mlocation_y\u001b[0m\u001b[1;33m]\u001b[0m\u001b[1;33m[\u001b[0m\u001b[0mlocation_x\u001b[0m\u001b[1;33m]\u001b[0m \u001b[1;33m=\u001b[0m \u001b[1;34m'M'\u001b[0m\u001b[1;33m\u001b[0m\u001b[0m\n\u001b[0m\u001b[1;32m     31\u001b[0m     \u001b[1;32mfor\u001b[0m \u001b[0mj\u001b[0m \u001b[1;32min\u001b[0m \u001b[0mfield\u001b[0m\u001b[1;33m:\u001b[0m\u001b[1;33m\u001b[0m\u001b[0m\n\u001b[1;32m     32\u001b[0m         \u001b[1;32mfor\u001b[0m \u001b[0mjj\u001b[0m \u001b[1;32min\u001b[0m \u001b[0mj\u001b[0m\u001b[1;33m:\u001b[0m\u001b[1;33m\u001b[0m\u001b[0m\n",
      "\u001b[0;31mIndexError\u001b[0m: list assignment index out of range"
     ]
    }
   ],
   "source": [
    "# Not working yet\n",
    "\n",
    "directions = 'dddwwwwwwwdddddddddddddddd'\n",
    "location_x = x\n",
    "location_y = y\n",
    "\n",
    "for i in directions:\n",
    "    if i == 'w':\n",
    "        if field[x][y-1] == '*':\n",
    "            print('You hit a mine!')\n",
    "            break\n",
    "        elif field[x][y-1] != '+':\n",
    "            location_y = location_y - 1\n",
    "    elif i == 'a':\n",
    "        if field[x-1][y] == '*':\n",
    "            print('You hit a mine!')\n",
    "            break\n",
    "        elif field[x-1][y] != '+':\n",
    "            location_x = location_x - 1\n",
    "    elif i == 's':\n",
    "        if field[x][y+1] == '*':\n",
    "            print('You hit a mine!')\n",
    "            break\n",
    "        elif field[x][y+1] != '+':\n",
    "            location_y = location_y + 1\n",
    "    elif i == 'd':\n",
    "        if field[x+1][y] == '*':\n",
    "            print('You hit a mine!')\n",
    "            break\n",
    "        elif field[x+1][y] != '+':\n",
    "            location_x = location_x + 1\n",
    "            field[location_y][location_x] = 'M'\n",
    "    for j in field:\n",
    "        for jj in j: \n",
    "            print(jj, end='')\n",
    "        print()\n",
    "    print()\n",
    "    if location_x == 0 or location_y == 0 or location_x == 10 or location_y == 10:\n",
    "        print('Minefield safely traversed!')"
   ]
  },
  {
   "cell_type": "code",
   "execution_count": 15,
   "metadata": {
    "collapsed": false
   },
   "outputs": [
    {
     "data": {
      "text/plain": [
       "['+++++++++++',\n",
       " '+0000000000',\n",
       " '+000000*00+',\n",
       " '+000000000+',\n",
       " '+000*00*00+',\n",
       " '+000000000+',\n",
       " 'M000*00000+',\n",
       " '+++++++++++']"
      ]
     },
     "execution_count": 15,
     "metadata": {},
     "output_type": "execute_result"
    }
   ],
   "source": [
    "field"
   ]
  },
  {
   "cell_type": "code",
   "execution_count": 14,
   "metadata": {
    "collapsed": false
   },
   "outputs": [
    {
     "data": {
      "text/plain": [
       "(3, 6)"
      ]
     },
     "execution_count": 14,
     "metadata": {},
     "output_type": "execute_result"
    }
   ],
   "source": [
    "location_x, location_y"
   ]
  },
  {
   "cell_type": "code",
   "execution_count": null,
   "metadata": {
    "collapsed": true
   },
   "outputs": [],
   "source": []
  }
 ],
 "metadata": {
  "anaconda-cloud": {},
  "kernelspec": {
   "display_name": "Python 3",
   "language": "python",
   "name": "python3"
  },
  "language_info": {
   "codemirror_mode": {
    "name": "ipython",
    "version": 3
   },
   "file_extension": ".py",
   "mimetype": "text/x-python",
   "name": "python",
   "nbconvert_exporter": "python",
   "pygments_lexer": "ipython3",
   "version": "3.6.0"
  }
 },
 "nbformat": 4,
 "nbformat_minor": 2
}
