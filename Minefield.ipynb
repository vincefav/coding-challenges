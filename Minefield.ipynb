{
 "cells": [
  {
   "cell_type": "code",
   "execution_count": 41,
   "metadata": {
    "collapsed": true
   },
   "outputs": [],
   "source": [
    "field = \"\"\"+++++++++++\n",
    "+0000000000\n",
    "+000000*00+\n",
    "+000000000+\n",
    "+000*00*00+\n",
    "+000000000+\n",
    "M000*00000+\n",
    "+++++++++++\"\"\".split('\\n')"
   ]
  },
  {
   "cell_type": "code",
   "execution_count": 42,
   "metadata": {
    "collapsed": false
   },
   "outputs": [
    {
     "data": {
      "text/plain": [
       "[['+', '+', '+', '+', '+', '+', '+', '+', '+', '+', '+'],\n",
       " ['+', '0', '0', '0', '0', '0', '0', '0', '0', '0', '0'],\n",
       " ['+', '0', '0', '0', '0', '0', '0', '*', '0', '0', '+'],\n",
       " ['+', '0', '0', '0', '0', '0', '0', '0', '0', '0', '+'],\n",
       " ['+', '0', '0', '0', '*', '0', '0', '*', '0', '0', '+'],\n",
       " ['+', '0', '0', '0', '0', '0', '0', '0', '0', '0', '+'],\n",
       " ['M', '0', '0', '0', '*', '0', '0', '0', '0', '0', '+'],\n",
       " ['+', '+', '+', '+', '+', '+', '+', '+', '+', '+', '+']]"
      ]
     },
     "execution_count": 42,
     "metadata": {},
     "output_type": "execute_result"
    }
   ],
   "source": [
    "field = [list(i) for i in field]\n",
    "\n",
    "field"
   ]
  },
  {
   "cell_type": "code",
   "execution_count": 43,
   "metadata": {
    "collapsed": false
   },
   "outputs": [
    {
     "data": {
      "text/plain": [
       "'0'"
      ]
     },
     "execution_count": 43,
     "metadata": {},
     "output_type": "execute_result"
    }
   ],
   "source": [
    "field[4][2]"
   ]
  },
  {
   "cell_type": "code",
   "execution_count": 44,
   "metadata": {
    "collapsed": false
   },
   "outputs": [],
   "source": [
    "for ix, i in enumerate(field):\n",
    "    for iix, j in enumerate(i):\n",
    "        if j == 'M':\n",
    "            y, x = ix, iix"
   ]
  },
  {
   "cell_type": "code",
   "execution_count": 45,
   "metadata": {
    "collapsed": false
   },
   "outputs": [
    {
     "data": {
      "text/plain": [
       "6"
      ]
     },
     "execution_count": 45,
     "metadata": {},
     "output_type": "execute_result"
    }
   ],
   "source": [
    "directions = 'dddwwwwwwwdddddddddddddddd'\n",
    "location_x = x\n",
    "location_y = y\n",
    "\n",
    "location_y"
   ]
  },
  {
   "cell_type": "code",
   "execution_count": 46,
   "metadata": {
    "collapsed": false
   },
   "outputs": [
    {
     "name": "stdout",
     "output_type": "stream",
     "text": [
      "6 0\n",
      "6 1\n",
      "6 2\n",
      "6 3\n",
      "6 4\n",
      "6 5\n",
      "6 6\n",
      "6 7\n",
      "6 8\n",
      "6 9\n",
      "6 10\n",
      "Minefield safely traversed!\n"
     ]
    }
   ],
   "source": [
    "# Not working yet\n",
    "print(location_y, location_x)\n",
    "for i in directions:\n",
    "    if i == 'w':\n",
    "        if field[y-1][x] == '*':\n",
    "            print('You hit a mine!')\n",
    "            break\n",
    "        elif field[y-1][x] != '+':\n",
    "            location_y = (location_y - 1) % len(field)\n",
    "            print(location_y, location_x)\n",
    "    elif i == 'a':\n",
    "        if field[y][x-1] == '*':\n",
    "            print('You hit a mine!')\n",
    "            break\n",
    "        elif field[y][x-1] != '+':\n",
    "            location_x = (location_x - 1) % len(field[0])\n",
    "            print(location_y, location_x)\n",
    "    elif i == 's':\n",
    "        if field[y+1][x] == '*':\n",
    "            print('You hit a mine!')\n",
    "            break\n",
    "        elif field[y+1][x] != '+':\n",
    "            location_y = (location_y + 1) % len(field)\n",
    "            print(location_y, location_x)\n",
    "    elif i == 'd':\n",
    "        if field[y][x+1] == '*':\n",
    "            print('You hit a mine!')\n",
    "            break\n",
    "        elif field[y][x+1] != '+':\n",
    "            location_x = (location_x + 1) % len(field[0])\n",
    "            field[location_y][location_x] = 'M'\n",
    "            print(location_y, location_x)\n",
    "#     for j in field:\n",
    "#         for jj in j: \n",
    "#             print(jj, end='')\n",
    "#         print()\n",
    "#     print()\n",
    "    if location_x == 0 or location_y == 0 or location_x == 10 or location_y == 10:\n",
    "        print('Minefield safely traversed!')\n",
    "        break"
   ]
  },
  {
   "cell_type": "code",
   "execution_count": 15,
   "metadata": {
    "collapsed": false
   },
   "outputs": [
    {
     "data": {
      "text/plain": [
       "['+++++++++++',\n",
       " '+0000000000',\n",
       " '+000000*00+',\n",
       " '+000000000+',\n",
       " '+000*00*00+',\n",
       " '+000000000+',\n",
       " 'M000*00000+',\n",
       " '+++++++++++']"
      ]
     },
     "execution_count": 15,
     "metadata": {},
     "output_type": "execute_result"
    }
   ],
   "source": [
    "field"
   ]
  },
  {
   "cell_type": "code",
   "execution_count": 14,
   "metadata": {
    "collapsed": false
   },
   "outputs": [
    {
     "data": {
      "text/plain": [
       "(3, 6)"
      ]
     },
     "execution_count": 14,
     "metadata": {},
     "output_type": "execute_result"
    }
   ],
   "source": [
    "location_x, location_y"
   ]
  },
  {
   "cell_type": "code",
   "execution_count": null,
   "metadata": {
    "collapsed": true
   },
   "outputs": [],
   "source": []
  }
 ],
 "metadata": {
  "anaconda-cloud": {},
  "kernelspec": {
   "display_name": "Python 3",
   "language": "python",
   "name": "python3"
  },
  "language_info": {
   "codemirror_mode": {
    "name": "ipython",
    "version": 3
   },
   "file_extension": ".py",
   "mimetype": "text/x-python",
   "name": "python",
   "nbconvert_exporter": "python",
   "pygments_lexer": "ipython3",
   "version": "3.6.0"
  }
 },
 "nbformat": 4,
 "nbformat_minor": 2
}
