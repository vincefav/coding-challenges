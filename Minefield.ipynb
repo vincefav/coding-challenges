{
 "cells": [
  {
   "cell_type": "code",
   "execution_count": 66,
   "metadata": {
    "collapsed": true
   },
   "outputs": [],
   "source": [
    "field = \"\"\"+++++++++++\n",
    "+0000000000\n",
    "+000000*00+\n",
    "+000000000+\n",
    "+000*00*00+\n",
    "+000000000+\n",
    "M000*00000+\n",
    "+++++++++++\"\"\".split('\\n')"
   ]
  },
  {
   "cell_type": "code",
   "execution_count": 67,
   "metadata": {
    "collapsed": false
   },
   "outputs": [
    {
     "data": {
      "text/plain": [
       "[['+', '+', '+', '+', '+', '+', '+', '+', '+', '+', '+'],\n",
       " ['+', '0', '0', '0', '0', '0', '0', '0', '0', '0', '0'],\n",
       " ['+', '0', '0', '0', '0', '0', '0', '*', '0', '0', '+'],\n",
       " ['+', '0', '0', '0', '0', '0', '0', '0', '0', '0', '+'],\n",
       " ['+', '0', '0', '0', '*', '0', '0', '*', '0', '0', '+'],\n",
       " ['+', '0', '0', '0', '0', '0', '0', '0', '0', '0', '+'],\n",
       " ['M', '0', '0', '0', '*', '0', '0', '0', '0', '0', '+'],\n",
       " ['+', '+', '+', '+', '+', '+', '+', '+', '+', '+', '+']]"
      ]
     },
     "execution_count": 67,
     "metadata": {},
     "output_type": "execute_result"
    }
   ],
   "source": [
    "field = [list(i) for i in field]\n",
    "\n",
    "field"
   ]
  },
  {
   "cell_type": "code",
   "execution_count": 68,
   "metadata": {
    "collapsed": false
   },
   "outputs": [
    {
     "data": {
      "text/plain": [
       "'0'"
      ]
     },
     "execution_count": 68,
     "metadata": {},
     "output_type": "execute_result"
    }
   ],
   "source": [
    "field[4][2]"
   ]
  },
  {
   "cell_type": "code",
   "execution_count": 69,
   "metadata": {
    "collapsed": false
   },
   "outputs": [],
   "source": [
    "for ix, i in enumerate(field):\n",
    "    for iix, j in enumerate(i):\n",
    "        if j == 'M':\n",
    "            y, x = ix, iix"
   ]
  },
  {
   "cell_type": "code",
   "execution_count": 70,
   "metadata": {
    "collapsed": false
   },
   "outputs": [
    {
     "data": {
      "text/plain": [
       "(0, 6)"
      ]
     },
     "execution_count": 70,
     "metadata": {},
     "output_type": "execute_result"
    }
   ],
   "source": [
    "# Not working yet\n",
    "\n",
    "directions = 'dddwwwwwwwdddddddddddddddd'\n",
    "location_x = x\n",
    "location_y = y\n",
    "\n",
    "location_x, location_y"
   ]
  },
  {
   "cell_type": "code",
   "execution_count": 71,
   "metadata": {
    "collapsed": false
   },
   "outputs": [
    {
     "name": "stdout",
     "output_type": "stream",
     "text": [
      "6 0\n",
      "6 1\n",
      "+++++++++++\n",
      "+0000000000\n",
      "+000000*00+\n",
      "+000000000+\n",
      "+000*00*00+\n",
      "+000000000+\n",
      "MM00*00000+\n",
      "+++++++++++\n",
      "\n",
      "6 2\n",
      "+++++++++++\n",
      "+0000000000\n",
      "+000000*00+\n",
      "+000000000+\n",
      "+000*00*00+\n",
      "+000000000+\n",
      "MMM0*00000+\n",
      "+++++++++++\n",
      "\n",
      "6 3\n",
      "+++++++++++\n",
      "+0000000000\n",
      "+000000*00+\n",
      "+000000000+\n",
      "+000*00*00+\n",
      "+000000000+\n",
      "MMMM*00000+\n",
      "+++++++++++\n",
      "\n",
      "5 3\n",
      "+++++++++++\n",
      "+0000000000\n",
      "+000000*00+\n",
      "+000000000+\n",
      "+000*00*00+\n",
      "+00M000000+\n",
      "MMMM*00000+\n",
      "+++++++++++\n",
      "\n",
      "4 3\n",
      "+++++++++++\n",
      "+0000000000\n",
      "+000000*00+\n",
      "+000000000+\n",
      "+00M*00*00+\n",
      "+00M000000+\n",
      "MMMM*00000+\n",
      "+++++++++++\n",
      "\n",
      "3 3\n",
      "+++++++++++\n",
      "+0000000000\n",
      "+000000*00+\n",
      "+00M000000+\n",
      "+00M*00*00+\n",
      "+00M000000+\n",
      "MMMM*00000+\n",
      "+++++++++++\n",
      "\n",
      "2 3\n",
      "+++++++++++\n",
      "+0000000000\n",
      "+00M000*00+\n",
      "+00M000000+\n",
      "+00M*00*00+\n",
      "+00M000000+\n",
      "MMMM*00000+\n",
      "+++++++++++\n",
      "\n",
      "1 3\n",
      "+++++++++++\n",
      "+00M0000000\n",
      "+00M000*00+\n",
      "+00M000000+\n",
      "+00M*00*00+\n",
      "+00M000000+\n",
      "MMMM*00000+\n",
      "+++++++++++\n",
      "\n",
      "+++++++++++\n",
      "+00M0000000\n",
      "+00M000*00+\n",
      "+00M000000+\n",
      "+00M*00*00+\n",
      "+00M000000+\n",
      "MMMM*00000+\n",
      "+++++++++++\n",
      "\n",
      "+++++++++++\n",
      "+00M0000000\n",
      "+00M000*00+\n",
      "+00M000000+\n",
      "+00M*00*00+\n",
      "+00M000000+\n",
      "MMMM*00000+\n",
      "+++++++++++\n",
      "\n",
      "1 4\n",
      "+++++++++++\n",
      "+00MM000000\n",
      "+00M000*00+\n",
      "+00M000000+\n",
      "+00M*00*00+\n",
      "+00M000000+\n",
      "MMMM*00000+\n",
      "+++++++++++\n",
      "\n",
      "1 5\n",
      "+++++++++++\n",
      "+00MMM00000\n",
      "+00M000*00+\n",
      "+00M000000+\n",
      "+00M*00*00+\n",
      "+00M000000+\n",
      "MMMM*00000+\n",
      "+++++++++++\n",
      "\n",
      "1 6\n",
      "+++++++++++\n",
      "+00MMMM0000\n",
      "+00M000*00+\n",
      "+00M000000+\n",
      "+00M*00*00+\n",
      "+00M000000+\n",
      "MMMM*00000+\n",
      "+++++++++++\n",
      "\n",
      "1 7\n",
      "+++++++++++\n",
      "+00MMMMM000\n",
      "+00M000*00+\n",
      "+00M000000+\n",
      "+00M*00*00+\n",
      "+00M000000+\n",
      "MMMM*00000+\n",
      "+++++++++++\n",
      "\n",
      "1 8\n",
      "+++++++++++\n",
      "+00MMMMMM00\n",
      "+00M000*00+\n",
      "+00M000000+\n",
      "+00M*00*00+\n",
      "+00M000000+\n",
      "MMMM*00000+\n",
      "+++++++++++\n",
      "\n",
      "1 9\n",
      "+++++++++++\n",
      "+00MMMMMMM0\n",
      "+00M000*00+\n",
      "+00M000000+\n",
      "+00M*00*00+\n",
      "+00M000000+\n",
      "MMMM*00000+\n",
      "+++++++++++\n",
      "\n",
      "1 10\n",
      "+++++++++++\n",
      "+00MMMMMMMM\n",
      "+00M000*00+\n",
      "+00M000000+\n",
      "+00M*00*00+\n",
      "+00M000000+\n",
      "MMMM*00000+\n",
      "+++++++++++\n",
      "\n",
      "Minefield safely traversed!\n"
     ]
    }
   ],
   "source": [
    "for i in directions:\n",
    "    if i == 'w':\n",
    "        if field[y-1][x] == '*':\n",
    "            print('You hit a mine!')\n",
    "            break\n",
    "        elif field[y-1][x] != '+':\n",
    "            y = (y - 1) % len(field)\n",
    "            field[y][x] = 'M'\n",
    "            print(y, x)\n",
    "    elif i == 'a':\n",
    "        if field[y][x-1] == '*':\n",
    "            print('You hit a mine!')\n",
    "            break\n",
    "        elif field[y][x-1] != '+':\n",
    "            x = (x - 1) % len(field[0])\n",
    "            field[y][x] = 'M'\n",
    "            print(y, x)\n",
    "    elif i == 's':\n",
    "        if field[y+1][x] == '*':\n",
    "            print('You hit a mine!')\n",
    "            break\n",
    "        elif field[y+1][x] != '+':\n",
    "            y = (y + 1) % len(field)\n",
    "            field[y][x] = 'M'\n",
    "            print(y, x)\n",
    "    elif i == 'd':\n",
    "        if field[y][x+1] == '*':\n",
    "            print('You hit a mine!')\n",
    "            break\n",
    "        elif field[y][x+1] != '+':\n",
    "            x = (x + 1) % len(field[0])\n",
    "            field[y][x] = 'M'\n",
    "            print(y, x)\n",
    "    for j in field:\n",
    "        for jj in j: \n",
    "            print(jj, end='')\n",
    "        print()\n",
    "    print()\n",
    "    if x == 0 or y == 0 or x == 10 or y == 10:\n",
    "        print('Minefield safely traversed!')\n",
    "        break"
   ]
  }
 ],
 "metadata": {
  "anaconda-cloud": {},
  "kernelspec": {
   "display_name": "Python 3",
   "language": "python",
   "name": "python3"
  },
  "language_info": {
   "codemirror_mode": {
    "name": "ipython",
    "version": 3
   },
   "file_extension": ".py",
   "mimetype": "text/x-python",
   "name": "python",
   "nbconvert_exporter": "python",
   "pygments_lexer": "ipython3",
   "version": "3.6.0"
  }
 },
 "nbformat": 4,
 "nbformat_minor": 2
}
