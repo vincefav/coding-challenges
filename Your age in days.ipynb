{
 "cells": [
  {
   "cell_type": "markdown",
   "metadata": {},
   "source": [
    "# Problem\n",
    "\n",
    "Calculate your age in days, taking into account leap years.\n",
    "\n",
    "---"
   ]
  },
  {
   "cell_type": "markdown",
   "metadata": {},
   "source": [
    "First, let's make a simple function that calculates whether it's a leap year or not."
   ]
  },
  {
   "cell_type": "code",
   "execution_count": 1,
   "metadata": {
    "collapsed": true
   },
   "outputs": [],
   "source": [
    "def is_leap_year(year):\n",
    "    if not type(year) == int:\n",
    "        raise ValueError('Error: You must enter a year.')\n",
    "        return None\n",
    "    if year < 1582:\n",
    "        print('Warning: For best results, enter a year after the Gregorian calendar was adopted.')\n",
    "    if year % 400 == 0:\n",
    "        return False\n",
    "    elif year % 4 == 0:\n",
    "        return True\n",
    "    else:\n",
    "        return False"
   ]
  },
  {
   "cell_type": "markdown",
   "metadata": {},
   "source": [
    "Next, let's make a dictionary that stores the number of days in each month."
   ]
  },
  {
   "cell_type": "code",
   "execution_count": 2,
   "metadata": {
    "collapsed": true
   },
   "outputs": [],
   "source": [
    "day_dict = {\n",
    "    1:31,\n",
    "    2:28,\n",
    "    3:31,\n",
    "    4:30,\n",
    "    5:31,\n",
    "    6:30,\n",
    "    7:31,\n",
    "    8:31,\n",
    "    9:30,\n",
    "    10:31,\n",
    "    11:30,\n",
    "    12:31\n",
    "}\n",
    "\n",
    "day_dict_leap = {\n",
    "    1:31,\n",
    "    2:29,\n",
    "    3:31,\n",
    "    4:30,\n",
    "    5:31,\n",
    "    6:30,\n",
    "    7:31,\n",
    "    8:31,\n",
    "    9:30,\n",
    "    10:31,\n",
    "    11:30,\n",
    "    12:31\n",
    "}"
   ]
  },
  {
   "cell_type": "markdown",
   "metadata": {},
   "source": [
    "I think the simplest way to solve this problem is to just increment over days and keep count. So let's solve it that way -- starting with a function that increments the day."
   ]
  },
  {
   "cell_type": "code",
   "execution_count": 3,
   "metadata": {
    "collapsed": true
   },
   "outputs": [],
   "source": [
    "def next_day(year, month, day):\n",
    "    \n",
    "    # Check for errors\n",
    "    if not (type(year) == int) and (type(month) == int) and (type(day) == int):\n",
    "        raise ValueError('Error: Year, month, and day must all be integers.')\n",
    "        return None\n",
    "    if month > 13 or month < 1:\n",
    "        raise ValueError('Error: Please enter a valid month.')\n",
    "        return None    \n",
    "    if day > 31 or day < 1:\n",
    "        raise ValueError('Error: Please enter a valid day.')\n",
    "        return None\n",
    "        \n",
    "    # Use the appropriate dictionary\n",
    "    if is_leap_year(year):\n",
    "        days_in = day_dict_leap\n",
    "    else:\n",
    "        days_in = day_dict\n",
    "    \n",
    "    # Add a day if there's room left in the month\n",
    "    if day < days_in[month]:\n",
    "        return year, month, (day + 1)\n",
    "    \n",
    "    else:\n",
    "        # If there's no room left and it's month 12, start a new year\n",
    "        if month == 12:\n",
    "            return (year + 1), 1, 1\n",
    "        \n",
    "        # If there's no room left and it's NOT month 12, start a new month\n",
    "        else:\n",
    "            return year, (month + 1), 1"
   ]
  },
  {
   "cell_type": "markdown",
   "metadata": {},
   "source": [
    "And now, the actual function that counts days."
   ]
  },
  {
   "cell_type": "code",
   "execution_count": 4,
   "metadata": {
    "collapsed": false
   },
   "outputs": [],
   "source": [
    "def count_days(start, end):\n",
    "    \n",
    "    # Check for errors\n",
    "    for i in range(3):\n",
    "        if type(start[i]) != int or type(end[i]) != int:\n",
    "            raise ValueError('Error: Please enter a valid date.')\n",
    "            return None\n",
    "        \n",
    "    backwards = False\n",
    "    if start > end:\n",
    "        backwards = True\n",
    "        print('Warning: End date was entered before start date. Counting backwards...')\n",
    "        placeholder = end\n",
    "        end = start\n",
    "        start = placeholder\n",
    "    \n",
    "    # Count days\n",
    "    count = 0\n",
    "    while start != end:\n",
    "        start = next_day(start[0], start[1], start[2])\n",
    "        count += 1\n",
    "    if not backwards:\n",
    "        return count\n",
    "    else:\n",
    "        return -count"
   ]
  },
  {
   "cell_type": "markdown",
   "metadata": {},
   "source": [
    "Run some quick tests..."
   ]
  },
  {
   "cell_type": "code",
   "execution_count": 5,
   "metadata": {
    "collapsed": false
   },
   "outputs": [
    {
     "data": {
      "text/plain": [
       "2"
      ]
     },
     "execution_count": 5,
     "metadata": {},
     "output_type": "execute_result"
    }
   ],
   "source": [
    "start = (2000, 5, 7)\n",
    "end   = (2000, 5, 9)\n",
    "\n",
    "count_days(start, end)"
   ]
  },
  {
   "cell_type": "code",
   "execution_count": 6,
   "metadata": {
    "collapsed": false
   },
   "outputs": [
    {
     "name": "stdout",
     "output_type": "stream",
     "text": [
      "Warning: End date was entered before start date. Counting backwards...\n"
     ]
    },
    {
     "data": {
      "text/plain": [
       "-2"
      ]
     },
     "execution_count": 6,
     "metadata": {},
     "output_type": "execute_result"
    }
   ],
   "source": [
    "start = (2000, 5, 9)\n",
    "end   = (2000, 5, 7)\n",
    "\n",
    "count_days(start, end)"
   ]
  },
  {
   "cell_type": "code",
   "execution_count": 7,
   "metadata": {
    "collapsed": false
   },
   "outputs": [
    {
     "data": {
      "text/plain": [
       "1"
      ]
     },
     "execution_count": 7,
     "metadata": {},
     "output_type": "execute_result"
    }
   ],
   "source": [
    "start = (2000, 5, 7)\n",
    "end   = (2000, 5, 8)\n",
    "\n",
    "count_days(start, end)"
   ]
  },
  {
   "cell_type": "code",
   "execution_count": 8,
   "metadata": {
    "collapsed": false
   },
   "outputs": [
    {
     "data": {
      "text/plain": [
       "2"
      ]
     },
     "execution_count": 8,
     "metadata": {},
     "output_type": "execute_result"
    }
   ],
   "source": [
    "start = (2000, 5, 7)\n",
    "end   = (2000, 5, 9)\n",
    "\n",
    "count_days(start, end)"
   ]
  },
  {
   "cell_type": "code",
   "execution_count": 9,
   "metadata": {
    "collapsed": false
   },
   "outputs": [
    {
     "data": {
      "text/plain": [
       "365"
      ]
     },
     "execution_count": 9,
     "metadata": {},
     "output_type": "execute_result"
    }
   ],
   "source": [
    "start = (2002, 5, 7)\n",
    "end   = (2003, 5, 7)\n",
    "\n",
    "count_days(start, end)"
   ]
  },
  {
   "cell_type": "code",
   "execution_count": 10,
   "metadata": {
    "collapsed": false
   },
   "outputs": [
    {
     "data": {
      "text/plain": [
       "366"
      ]
     },
     "execution_count": 10,
     "metadata": {},
     "output_type": "execute_result"
    }
   ],
   "source": [
    "start = (2003, 5, 7)\n",
    "end   = (2004, 5, 7)\n",
    "\n",
    "# Leap year!\n",
    "count_days(start, end)"
   ]
  },
  {
   "cell_type": "markdown",
   "metadata": {},
   "source": [
    "Looking good! Let's wrap up with a longer timespan. If someone was born on February 29th, 1996, how many days old are they?"
   ]
  },
  {
   "cell_type": "code",
   "execution_count": 11,
   "metadata": {
    "collapsed": false
   },
   "outputs": [
    {
     "data": {
      "text/plain": [
       "7978"
      ]
     },
     "execution_count": 11,
     "metadata": {},
     "output_type": "execute_result"
    }
   ],
   "source": [
    "start = (1996, 2, 29)\n",
    "end   = (2018, 1, 3)\n",
    "\n",
    "count_days(start, end)"
   ]
  }
 ],
 "metadata": {
  "kernelspec": {
   "display_name": "Python 3",
   "language": "python",
   "name": "python3"
  },
  "language_info": {
   "codemirror_mode": {
    "name": "ipython",
    "version": 3
   },
   "file_extension": ".py",
   "mimetype": "text/x-python",
   "name": "python",
   "nbconvert_exporter": "python",
   "pygments_lexer": "ipython3",
   "version": "3.6.0"
  }
 },
 "nbformat": 4,
 "nbformat_minor": 2
}
